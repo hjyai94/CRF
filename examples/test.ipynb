{
 "cells": [
  {
   "cell_type": "code",
   "execution_count": 1,
   "metadata": {
    "scrolled": true
   },
   "outputs": [
    {
     "name": "stdout",
     "output_type": "stream",
     "text": [
      "[[[  0   0   0 ...   0   0   0]\n",
      "  [  1   1   1 ...   1   1   1]\n",
      "  [  2   2   2 ...   2   2   2]\n",
      "  ...\n",
      "  [397 397 397 ... 397 397 397]\n",
      "  [398 398 398 ... 398 398 398]\n",
      "  [399 399 399 ... 399 399 399]]\n",
      "\n",
      " [[  0   1   2 ... 509 510 511]\n",
      "  [  0   1   2 ... 509 510 511]\n",
      "  [  0   1   2 ... 509 510 511]\n",
      "  ...\n",
      "  [  0   1   2 ... 509 510 511]\n",
      "  [  0   1   2 ... 509 510 511]\n",
      "  [  0   1   2 ... 509 510 511]]]\n",
      "[[[  0   0]\n",
      "  [  0   1]\n",
      "  [  0   2]\n",
      "  ...\n",
      "  [  0 509]\n",
      "  [  0 510]\n",
      "  [  0 511]]\n",
      "\n",
      " [[  1   0]\n",
      "  [  1   1]\n",
      "  [  1   2]\n",
      "  ...\n",
      "  [  1 509]\n",
      "  [  1 510]\n",
      "  [  1 511]]\n",
      "\n",
      " [[  2   0]\n",
      "  [  2   1]\n",
      "  [  2   2]\n",
      "  ...\n",
      "  [  2 509]\n",
      "  [  2 510]\n",
      "  [  2 511]]\n",
      "\n",
      " ...\n",
      "\n",
      " [[397   0]\n",
      "  [397   1]\n",
      "  [397   2]\n",
      "  ...\n",
      "  [397 509]\n",
      "  [397 510]\n",
      "  [397 511]]\n",
      "\n",
      " [[398   0]\n",
      "  [398   1]\n",
      "  [398   2]\n",
      "  ...\n",
      "  [398 509]\n",
      "  [398 510]\n",
      "  [398 511]]\n",
      "\n",
      " [[399   0]\n",
      "  [399   1]\n",
      "  [399   2]\n",
      "  ...\n",
      "  [399 509]\n",
      "  [399 510]\n",
      "  [399 511]]]\n"
     ]
    }
   ],
   "source": [
    "import numpy as np\n",
    "import matplotlib.pyplot as plt\n",
    "H, W, NLABELS = 400, 512, 2\n",
    "pos = np.stack(np.mgrid[0:H, 0:W], axis=2)\n",
    "print(np.mgrid[0:H, 0:W])\n",
    "print(pos)"
   ]
  },
  {
   "cell_type": "code",
   "execution_count": 2,
   "metadata": {},
   "outputs": [
    {
     "name": "stdout",
     "output_type": "stream",
     "text": [
      "[[[ 1  2  3]\n",
      "  [ 4  5  6]]\n",
      "\n",
      " [[ 2  3  4]\n",
      "  [ 7  8  9]]\n",
      "\n",
      " [[ 4  5  6]\n",
      "  [10 11 12]]]\n"
     ]
    },
    {
     "data": {
      "text/plain": [
       "(3, 2, 3)"
      ]
     },
     "execution_count": 2,
     "metadata": {},
     "output_type": "execute_result"
    }
   ],
   "source": [
    "a = np.array([[1, 2, 3], [2, 3, 4], [4, 5, 6]])\n",
    "b = np.array([[4, 5, 6], [7, 8, 9], [10, 11, 12]])\n",
    "c = np.stack((a, b), axis=1)\n",
    "print(c)\n",
    "c.shape"
   ]
  },
  {
   "cell_type": "code",
   "execution_count": 3,
   "metadata": {},
   "outputs": [],
   "source": [
    " x = np.linspace(0, 5, 10, endpoint=False)"
   ]
  },
  {
   "cell_type": "code",
   "execution_count": 4,
   "metadata": {},
   "outputs": [
    {
     "name": "stdout",
     "output_type": "stream",
     "text": [
      "[0.  0.5 1.  1.5 2.  2.5 3.  3.5 4.  4.5]\n"
     ]
    }
   ],
   "source": [
    "print(x)"
   ]
  },
  {
   "cell_type": "code",
   "execution_count": 5,
   "metadata": {},
   "outputs": [],
   "source": [
    "from scipy.stats import multivariate_normal\n",
    "x = np.linspace(0, 5, 10, endpoint=False)\n",
    "y = multivariate_normal.pdf(x, mean=2.5, cov=0.5)"
   ]
  },
  {
   "cell_type": "code",
   "execution_count": 7,
   "metadata": {},
   "outputs": [
    {
     "data": {
      "image/png": "[encoded data removed]",
      "text/plain": [
       "<Figure size 432x288 with 1 Axes>"
      ]
     },
     "metadata": {},
     "output_type": "display_data"
    }
   ],
   "source": [
    "plt.plot(x, y)\n",
    "plt.show()"
   ]
  },
  {
   "cell_type": "code",
   "execution_count": 10,
   "metadata": {},
   "outputs": [
    {
     "data": {
      "image/png": "[encoded data removed]",
      "text/plain": [
       "<Figure size 432x288 with 1 Axes>"
      ]
     },
     "metadata": {},
     "output_type": "display_data"
    }
   ],
   "source": [
    "x, y = np.mgrid[-1:1:.01, -1:1:.01]\n",
    "pos = np.empty(x.shape + (2,))\n",
    "printpos.shape\n",
    "pos[:, :, 0] = x; pos[:, :, 1] = y\n",
    "rv = multivariate_normal([0.5, -0.2], [[2.0, 0.3], [0.3, 0.5]])\n",
    "plt.contourf(x, y, rv.pdf(pos))\n",
    "plt.show()"
   ]
  },
  {
   "cell_type": "code",
   "execution_count": 21,
   "metadata": {},
   "outputs": [
    {
     "name": "stdout",
     "output_type": "stream",
     "text": [
      "[[[1 2]\n",
      "  [2 3]]\n",
      "\n",
      " [[4 5]\n",
      "  [5 6]]]\n",
      "[[[1 4]\n",
      "  [2 5]]\n",
      "\n",
      " [[2 5]\n",
      "  [3 6]]]\n"
     ]
    }
   ],
   "source": [
    "x = np.array([[[1, 2], [2, 3]], [[4, 5], [5, 6]]])\n",
    "print(x)\n",
    "print(np.stack(x, axis=2))"
   ]
  },
  {
   "cell_type": "code",
   "execution_count": null,
   "metadata": {
    "collapsed": true
   },
   "outputs": [],
   "source": []
  }
 ],
 "metadata": {
  "kernelspec": {
   "display_name": "Python 3",
   "language": "python",
   "name": "python3"
  },
  "language_info": {
   "codemirror_mode": {
    "name": "ipython",
    "version": 3
   },
   "file_extension": ".py",
   "mimetype": "text/x-python",
   "name": "python",
   "nbconvert_exporter": "python",
   "pygments_lexer": "ipython3",
   "version": "3.6.3"
  }
 },
 "nbformat": 4,
 "nbformat_minor": 2
}
